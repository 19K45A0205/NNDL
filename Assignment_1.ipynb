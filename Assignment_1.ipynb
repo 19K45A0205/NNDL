{
  "nbformat": 4,
  "nbformat_minor": 0,
  "metadata": {
    "colab": {
      "name": "Assignment-1.ipynb",
      "provenance": [],
      "authorship_tag": "ABX9TyMObFJ33B8IQSFfAPLQHJ4x"
    },
    "kernelspec": {
      "name": "python3",
      "display_name": "Python 3"
    }
  },
  "cells": [
    {
      "cell_type": "code",
      "metadata": {
        "colab": {
          "base_uri": "https://localhost:8080/"
        },
        "id": "oSLKHzpEiVkb",
        "outputId": "955a4d5d-4c56-4076-916b-833c67d5645b"
      },
      "source": [
        "import random\r\n",
        "x_i = random.random()\r\n",
        "eta = 0.1\r\n",
        "eps = 0.0000000000001\r\n",
        "del_x = 1\r\n",
        "max_iters = 1000\r\n",
        "iters = 0\r\n",
        "def f(x) :\r\n",
        "    f_x = x**4 +3*x**2 +10\r\n",
        "    return f_x\r\n",
        "def deriv(x) :\r\n",
        "    x_deriv = 4*(x**3)+6*x\r\n",
        "    return x_deriv\r\n",
        "while abs(del_x) > eps and iters < max_iters :\r\n",
        "    x_p = x_i\r\n",
        "    del_x = -eta * deriv(x_p)\r\n",
        "    x_i = x_i + del_x\r\n",
        "    iters = iters + 1\r\n",
        "    print(\"iterations\",iters,\"\\n X value is \",x_i)\r\n",
        "    \r\n",
        "print(\"the  minimum point occurs at \",x_i)\r\n",
        "print(\"the value of f(x)\",f(x_p))"
      ],
      "execution_count": 14,
      "outputs": [
        {
          "output_type": "stream",
          "text": [
            "iterations 1 \n",
            " X value is  0.1234683158807155\n",
            "iterations 2 \n",
            " X value is  0.04863444495845343\n",
            "iterations 3 \n",
            " X value is  0.019407763782634074\n",
            "iterations 4 \n",
            " X value is  0.00776018145167753\n",
            "iterations 5 \n",
            " X value is  0.003103885652128404\n",
            "iterations 6 \n",
            " X value is  0.001241542299585832\n",
            "iterations 7 \n",
            " X value is  0.000496616154335464\n",
            "iterations 8 \n",
            " X value is  0.00019864641274248453\n",
            "iterations 9 \n",
            " X value is  7.945856196152726e-05\n",
            "iterations 10 \n",
            " X value is  3.178342458394106e-05\n",
            "iterations 11 \n",
            " X value is  1.2713369820733555e-05\n",
            "iterations 12 \n",
            " X value is  5.085347927471477e-06\n",
            "iterations 13 \n",
            " X value is  2.0341391709359864e-06\n",
            "iterations 14 \n",
            " X value is  8.13655668371028e-07\n",
            "iterations 15 \n",
            " X value is  3.254622673481957e-07\n",
            "iterations 16 \n",
            " X value is  1.3018490693926446e-07\n",
            "iterations 17 \n",
            " X value is  5.20739627757049e-08\n",
            "iterations 18 \n",
            " X value is  2.0829585110281902e-08\n",
            "iterations 19 \n",
            " X value is  8.331834044112758e-09\n",
            "iterations 20 \n",
            " X value is  3.3327336176451027e-09\n",
            "iterations 21 \n",
            " X value is  1.333093447058041e-09\n",
            "iterations 22 \n",
            " X value is  5.332373788232165e-10\n",
            "iterations 23 \n",
            " X value is  2.1329495152928657e-10\n",
            "iterations 24 \n",
            " X value is  8.531798061171464e-11\n",
            "iterations 25 \n",
            " X value is  3.4127192244685845e-11\n",
            "iterations 26 \n",
            " X value is  1.3650876897874335e-11\n",
            "iterations 27 \n",
            " X value is  5.460350759149734e-12\n",
            "iterations 28 \n",
            " X value is  2.184140303659893e-12\n",
            "iterations 29 \n",
            " X value is  8.736561214639571e-13\n",
            "iterations 30 \n",
            " X value is  3.4946244858558286e-13\n",
            "iterations 31 \n",
            " X value is  1.3978497943423312e-13\n",
            "iterations 32 \n",
            " X value is  5.591399177369325e-14\n",
            "the  minimum point occurs at  5.591399177369325e-14\n",
            "the value of f(x) 10.0\n"
          ],
          "name": "stdout"
        }
      ]
    }
  ]
}