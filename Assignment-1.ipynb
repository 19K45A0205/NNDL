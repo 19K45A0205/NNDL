{
 "cells": [
  {
   "cell_type": "code",
   "execution_count": 22,
   "metadata": {
    "scrolled": true
   },
   "outputs": [
    {
     "name": "stdout",
     "output_type": "stream",
     "text": [
      "iterations 1 \n",
      " X value is  0.0\n",
      "iterations 2 \n",
      " X value is  0.0\n",
      "the  minimum point occurs at  0.0\n",
      "the value of f(x) 10.0\n"
     ]
    }
   ],
   "source": [
    "x_i = 1\n",
    "eta = 0.1\n",
    "eps = 0.0001\n",
    "del_x = 1\n",
    "max_iters = 1000\n",
    "iters = 0\n",
    "def f(x) :\n",
    "    f_x = x**4 +3*x**2 +10\n",
    "    return f_x\n",
    "def deriv(x) :\n",
    "    x_deriv = 4*(x**3)+6*x\n",
    "    return x_deriv\n",
    "while abs(del_x) > eps and iters < max_iters :\n",
    "    x_p = x_i\n",
    "    del_x = -eta * deriv(x_p)\n",
    "    x_i = x_i + del_x\n",
    "    iters = iters + 1\n",
    "    print(\"iterations\",iters,\"\\n X value is \",x_i)\n",
    "    \n",
    "print(\"the  minimum point occurs at \",x_i)\n",
    "print(\"the value of f(x)\",f(x_p))"
   ]
  }
 ],
 "metadata": {
  "kernelspec": {
   "display_name": "Python 3",
   "language": "python",
   "name": "python3"
  },
  "language_info": {
   "codemirror_mode": {
    "name": "ipython",
    "version": 3
   },
   "file_extension": ".py",
   "mimetype": "text/x-python",
   "name": "python",
   "nbconvert_exporter": "python",
   "pygments_lexer": "ipython3",
   "version": "3.8.5"
  }
 },
 "nbformat": 4,
 "nbformat_minor": 4
}
